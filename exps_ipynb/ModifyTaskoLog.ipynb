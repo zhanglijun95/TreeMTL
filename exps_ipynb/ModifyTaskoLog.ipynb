{
 "cells": [
  {
   "cell_type": "code",
   "execution_count": 14,
   "id": "377e32b6",
   "metadata": {},
   "outputs": [],
   "source": [
    "import itertools\n",
    "import fileinput"
   ]
  },
  {
   "cell_type": "code",
   "execution_count": 4,
   "id": "53bd6d44",
   "metadata": {},
   "outputs": [],
   "source": [
    "data = 'Taskonomy'\n",
    "tasks = ('segment_semantic','normal','depth_zbuffer','keypoints2d','edge_texture')\n",
    "B = 5\n",
    "model = 'resnet'"
   ]
  },
  {
   "cell_type": "code",
   "execution_count": 21,
   "id": "1f50a556",
   "metadata": {
    "scrolled": true
   },
   "outputs": [
    {
     "name": "stdout",
     "output_type": "stream",
     "text": [
      "./log/2task_coarse_Taskonomy_resnet/depth_zbuffer_edge_texture_b0.stdout\n",
      "./log/2task_coarse_Taskonomy_resnet/depth_zbuffer_edge_texture_b1.stdout\n",
      "./log/2task_coarse_Taskonomy_resnet/depth_zbuffer_edge_texture_b2.stdout\n",
      "./log/2task_coarse_Taskonomy_resnet/depth_zbuffer_edge_texture_b3.stdout\n",
      "./log/2task_coarse_Taskonomy_resnet/depth_zbuffer_edge_texture_b4.stdout\n",
      "./log/2task_coarse_Taskonomy_resnet/depth_zbuffer_edge_texture_b5.stdout\n",
      "./log/2task_coarse_Taskonomy_resnet/segment_semantic_keypoints2d_b0.stdout\n",
      "./log/2task_coarse_Taskonomy_resnet/segment_semantic_keypoints2d_b1.stdout\n",
      "./log/2task_coarse_Taskonomy_resnet/segment_semantic_keypoints2d_b2.stdout\n",
      "./log/2task_coarse_Taskonomy_resnet/segment_semantic_keypoints2d_b3.stdout\n",
      "./log/2task_coarse_Taskonomy_resnet/segment_semantic_keypoints2d_b4.stdout\n",
      "./log/2task_coarse_Taskonomy_resnet/segment_semantic_keypoints2d_b5.stdout\n",
      "./log/2task_coarse_Taskonomy_resnet/segment_semantic_edge_texture_b0.stdout\n",
      "./log/2task_coarse_Taskonomy_resnet/segment_semantic_edge_texture_b1.stdout\n",
      "./log/2task_coarse_Taskonomy_resnet/segment_semantic_edge_texture_b2.stdout\n",
      "./log/2task_coarse_Taskonomy_resnet/segment_semantic_edge_texture_b3.stdout\n",
      "./log/2task_coarse_Taskonomy_resnet/segment_semantic_edge_texture_b4.stdout\n",
      "./log/2task_coarse_Taskonomy_resnet/segment_semantic_edge_texture_b5.stdout\n",
      "./log/2task_coarse_Taskonomy_resnet/normal_keypoints2d_b0.stdout\n",
      "./log/2task_coarse_Taskonomy_resnet/normal_keypoints2d_b1.stdout\n",
      "./log/2task_coarse_Taskonomy_resnet/normal_keypoints2d_b2.stdout\n",
      "./log/2task_coarse_Taskonomy_resnet/normal_keypoints2d_b3.stdout\n",
      "./log/2task_coarse_Taskonomy_resnet/normal_keypoints2d_b4.stdout\n",
      "./log/2task_coarse_Taskonomy_resnet/normal_keypoints2d_b5.stdout\n",
      "./log/2task_coarse_Taskonomy_resnet/depth_zbuffer_keypoints2d_b0.stdout\n",
      "./log/2task_coarse_Taskonomy_resnet/depth_zbuffer_keypoints2d_b1.stdout\n",
      "./log/2task_coarse_Taskonomy_resnet/depth_zbuffer_keypoints2d_b2.stdout\n",
      "./log/2task_coarse_Taskonomy_resnet/depth_zbuffer_keypoints2d_b3.stdout\n",
      "./log/2task_coarse_Taskonomy_resnet/depth_zbuffer_keypoints2d_b4.stdout\n",
      "./log/2task_coarse_Taskonomy_resnet/depth_zbuffer_keypoints2d_b5.stdout\n",
      "./log/2task_coarse_Taskonomy_resnet/keypoints2d_edge_texture_b0.stdout\n",
      "./log/2task_coarse_Taskonomy_resnet/keypoints2d_edge_texture_b1.stdout\n",
      "./log/2task_coarse_Taskonomy_resnet/keypoints2d_edge_texture_b2.stdout\n",
      "./log/2task_coarse_Taskonomy_resnet/keypoints2d_edge_texture_b3.stdout\n",
      "./log/2task_coarse_Taskonomy_resnet/keypoints2d_edge_texture_b4.stdout\n",
      "./log/2task_coarse_Taskonomy_resnet/keypoints2d_edge_texture_b5.stdout\n",
      "./log/2task_coarse_Taskonomy_resnet/normal_edge_texture_b0.stdout\n",
      "./log/2task_coarse_Taskonomy_resnet/normal_edge_texture_b1.stdout\n",
      "./log/2task_coarse_Taskonomy_resnet/normal_edge_texture_b2.stdout\n",
      "./log/2task_coarse_Taskonomy_resnet/normal_edge_texture_b3.stdout\n",
      "./log/2task_coarse_Taskonomy_resnet/normal_edge_texture_b4.stdout\n",
      "./log/2task_coarse_Taskonomy_resnet/normal_edge_texture_b5.stdout\n"
     ]
    }
   ],
   "source": [
    "key_flag = False\n",
    "edge_flag = False\n",
    "\n",
    "for two_task in set(itertools.combinations(tasks, 2)):\n",
    "    block = B\n",
    "    \n",
    "    if 'keypoints2d' in two_task or 'edge_texture' in two_task:\n",
    "        for i in range(block+1):\n",
    "            log = '_'.join(two_task) + '_b' + str(i) + '.stdout'\n",
    "            log = './log/2task_coarse_'+data+'_'+model+'/'+log\n",
    "            print(log)\n",
    "            \n",
    "            with fileinput.FileInput(log, inplace = True, backup ='.bak') as f:\n",
    "                for line in f:\n",
    "                    \n",
    "                    if 'keyp' in line and 'Val Loss' in line:\n",
    "                        key_flag = True\n",
    "                        print(line, end='')\n",
    "                        continue\n",
    "                    elif 'edge' in line and 'Val Loss' in line:\n",
    "                        edge_flag = True\n",
    "                        print(line, end='')\n",
    "                        continue\n",
    "                        \n",
    "                    if key_flag:\n",
    "                        line = line.replace('err','key_err')\n",
    "                        key_flag = False\n",
    "                        print(line, end='')\n",
    "                        continue\n",
    "                    elif edge_flag:\n",
    "                        line = line.replace('err','edge_err')\n",
    "                        edge_flag = False\n",
    "                        print(line, end='')\n",
    "                        continue\n",
    "                    print(line, end='')"
   ]
  },
  {
   "cell_type": "code",
   "execution_count": null,
   "id": "6c0d0ee0",
   "metadata": {},
   "outputs": [],
   "source": []
  },
  {
   "cell_type": "code",
   "execution_count": null,
   "id": "2b9e345c",
   "metadata": {},
   "outputs": [],
   "source": []
  },
  {
   "cell_type": "code",
   "execution_count": null,
   "id": "61a50975",
   "metadata": {},
   "outputs": [],
   "source": []
  }
 ],
 "metadata": {
  "kernelspec": {
   "display_name": "Python 3",
   "language": "python",
   "name": "python3"
  },
  "language_info": {
   "codemirror_mode": {
    "name": "ipython",
    "version": 3
   },
   "file_extension": ".py",
   "mimetype": "text/x-python",
   "name": "python",
   "nbconvert_exporter": "python",
   "pygments_lexer": "ipython3",
   "version": "3.6.12"
  }
 },
 "nbformat": 4,
 "nbformat_minor": 5
}
