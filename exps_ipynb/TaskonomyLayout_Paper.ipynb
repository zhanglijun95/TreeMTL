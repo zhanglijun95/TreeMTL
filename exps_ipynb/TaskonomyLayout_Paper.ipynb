{
 "cells": [
  {
   "cell_type": "code",
   "execution_count": 1,
   "metadata": {},
   "outputs": [],
   "source": [
    "import pandas as pd\n",
    "import numpy as np\n",
    "import itertools\n",
    "import torch\n",
    "import time, copy\n",
    "import matplotlib.pyplot as plt\n",
    "from ptflops import get_model_complexity_info\n",
    "\n",
    "from main.layout import Layout\n",
    "from main.algorithms import enum_layout_wo_rdt, init_S"
   ]
  },
  {
   "cell_type": "code",
   "execution_count": 33,
   "metadata": {
    "scrolled": false
   },
   "outputs": [
    {
     "name": "stdout",
     "output_type": "stream",
     "text": [
      "             JOBID PARTITION     NAME     USER ST       TIME  NODES NODELIST(REASON)\r\n",
      "           8518430 titanx-lo      V31 lijunzha PD       0:00      1 (Resources)\r\n",
      "           8518431 titanx-lo      V49 lijunzha PD       0:00      1 (Priority)\r\n",
      "           8518432 titanx-lo      V38 lijunzha PD       0:00      1 (Priority)\r\n",
      "           8518433 titanx-lo      V48 lijunzha PD       0:00      1 (Priority)\r\n",
      "           8518434 titanx-lo      V40 lijunzha PD       0:00      1 (Priority)\r\n",
      "           8518435 titanx-lo      V17 lijunzha PD       0:00      1 (Priority)\r\n",
      "           8518436 titanx-lo       V4 lijunzha PD       0:00      1 (Priority)\r\n",
      "           8518437 titanx-lo       V1 lijunzha PD       0:00      1 (Priority)\r\n",
      "           8518438 titanx-lo      V27 lijunzha PD       0:00      1 (Priority)\r\n",
      "           8518439 titanx-lo       V6 lijunzha PD       0:00      1 (Priority)\r\n",
      "           8518440 titanx-lo      V23 lijunzha PD       0:00      1 (Priority)\r\n",
      "           8518402 1080ti-lo      FO0 lijunzha PD       0:00      1 (Priority)\r\n",
      "           8518403 1080ti-lo      FO1 lijunzha PD       0:00      1 (Priority)\r\n",
      "           8518404 1080ti-lo      FO2 lijunzha PD       0:00      1 (Priority)\r\n",
      "           8518405 1080ti-lo      FO3 lijunzha PD       0:00      1 (Priority)\r\n",
      "           8518406 1080ti-lo      FO4 lijunzha PD       0:00      1 (Priority)\r\n",
      "           8518407 1080ti-lo      FO5 lijunzha PD       0:00      1 (Priority)\r\n",
      "           8518408 1080ti-lo      FO0 lijunzha PD       0:00      1 (Priority)\r\n",
      "           8518409 1080ti-lo      FO1 lijunzha PD       0:00      1 (Priority)\r\n",
      "           8518410 1080ti-lo      FO2 lijunzha PD       0:00      1 (Priority)\r\n",
      "           8518411 1080ti-lo      FO3 lijunzha PD       0:00      1 (Priority)\r\n",
      "           8518412 1080ti-lo      FO4 lijunzha PD       0:00      1 (Priority)\r\n",
      "           8518413 1080ti-lo      FO5 lijunzha PD       0:00      1 (Priority)\r\n",
      "           8518414 1080ti-lo      FO0 lijunzha PD       0:00      1 (Priority)\r\n",
      "           8518415 1080ti-lo      FO1 lijunzha PD       0:00      1 (Priority)\r\n",
      "           8518416 1080ti-lo      FO2 lijunzha PD       0:00      1 (Priority)\r\n",
      "           8518417 1080ti-lo      FO3 lijunzha PD       0:00      1 (Priority)\r\n",
      "           8518418 1080ti-lo      FO4 lijunzha PD       0:00      1 (Priority)\r\n",
      "           8518419 1080ti-lo      FO5 lijunzha PD       0:00      1 (Priority)\r\n",
      "           8518397 rtx8000-s     bash lijunzha  R    1:20:08      1 node188\r\n",
      "           8518429 titanx-lo      V39 lijunzha  R       9:56      1 node090\r\n",
      "           8518420 titanx-lo       V0 lijunzha  R      24:39      1 node092\r\n",
      "           8518421 titanx-lo       V7 lijunzha  R      24:39      1 node092\r\n",
      "           8518422 titanx-lo      V11 lijunzha  R      24:39      1 node085\r\n",
      "           8518423 titanx-lo      V10 lijunzha  R      24:39      1 node085\r\n",
      "           8518424 titanx-lo       V9 lijunzha  R      24:39      1 node086\r\n",
      "           8518425 titanx-lo       V8 lijunzha  R      24:39      1 node086\r\n",
      "           8518426 titanx-lo      V16 lijunzha  R      24:39      1 node086\r\n",
      "           8518427 titanx-lo      V15 lijunzha  R      24:39      1 node086\r\n",
      "           8516932  m40-long     V150 lijunzha  R 1-14:54:08      1 node018\r\n",
      "           8516931  m40-long       V5 lijunzha  R 1-14:54:29      1 node018\r\n",
      "           8516909 titanx-lo    V7537 lijunzha  R 1-16:19:58      1 node093\r\n",
      "           8516188 titanx-lo     V688 lijunzha  R 2-19:07:39      1 node093\r\n",
      "           8516189 titanx-lo    V1667 lijunzha  R 2-19:07:39      1 node093\r\n",
      "           8516190 titanx-lo    V2027 lijunzha  R 2-19:07:39      1 node093\r\n"
     ]
    }
   ],
   "source": [
    "!squeue -u lijunzhang"
   ]
  },
  {
   "cell_type": "code",
   "execution_count": 23,
   "metadata": {},
   "outputs": [
    {
     "name": "stdout",
     "output_type": "stream",
     "text": [
      "2task_mobilenet_0116  2task_resnet34_noise  verify_0123\t\tverify_1026\r\n",
      "2task_mobilenet_0124  baseline\t\t    verify_0123_reload\tverify_1102\r\n",
      "2task_mobilenet_0221  exp\t\t    verify_0124\t\tverify_1116\r\n",
      "2task_mobilenet_1206  verify_0105\t    verify_0221\t\tverify_1118\r\n",
      "2task_resnet34\t      verify_0105_resnet    verify_1007\t\tverify_1214\r\n",
      "2task_resnet34_1019   verify_0111\t    verify_1014\r\n",
      "2task_resnet34_1129   verify_0116\t    verify_1019\r\n"
     ]
    }
   ],
   "source": [
    "!ls /mnt/nfs/work1/huiguan/lijunzhang/multibranch/log/NYUv2/"
   ]
  },
  {
   "cell_type": "code",
   "execution_count": 31,
   "metadata": {
    "scrolled": true
   },
   "outputs": [],
   "source": [
    "!scancel 8518428"
   ]
  },
  {
   "cell_type": "markdown",
   "metadata": {},
   "source": [
    "# All Layouts"
   ]
  },
  {
   "cell_type": "code",
   "execution_count": 2,
   "metadata": {},
   "outputs": [
    {
     "name": "stdout",
     "output_type": "stream",
     "text": [
      "7556\n",
      "--- 66.10369229316711 seconds ---\n"
     ]
    }
   ],
   "source": [
    "# Enum all layouts for given T (5 for Taskonomy) and B (17 for Deeplab_Resnet34)\n",
    "start_time = time.time()\n",
    "\n",
    "T = 5 # segment_semantic, normal, depth_zbuffer, keypoints2d, edge_texture\n",
    "B = 5\n",
    "\n",
    "layout_list = [] \n",
    "S0 = init_S(T, B) # initial state\n",
    "L = Layout(T, B, S0) # initial layout\n",
    "layout_list.append(L)\n",
    "\n",
    "enum_layout_wo_rdt(L, layout_list)\n",
    "print(len(layout_list))\n",
    "\n",
    "print(\"--- %s seconds ---\" % (time.time() - start_time))"
   ]
  },
  {
   "cell_type": "markdown",
   "metadata": {},
   "source": [
    "# Learn to Branch Layout idx"
   ]
  },
  {
   "cell_type": "code",
   "execution_count": null,
   "metadata": {},
   "outputs": [],
   "source": [
    "# learn to branch\n",
    "S_b = copy.deepcopy(S0)\n",
    "S_b[4] = [{0,1,2},{3,4}]\n",
    "# S_b[15] = [{0,1,2},{3,4}]\n",
    "\n",
    "# BMTAS\n",
    "S_b[4] = [{0,2,4},{1,3}]\n",
    "\n",
    "# AutoMTL\n",
    "# S_b[0] = [{0,1,2},{3},{4}]\n",
    "# S_b[1] = [{0,1,2},{3},{4}]\n",
    "# S_b[2] = [{0,1,2},{3},{4}]\n",
    "# S_b[3] = [{0},{1},{2},{3},{4}]\n",
    "# S_b[4] = [{0},{1},{2},{3},{4}]"
   ]
  },
  {
   "cell_type": "code",
   "execution_count": null,
   "metadata": {},
   "outputs": [],
   "source": [
    "# task grouping\n",
    "S_b = copy.deepcopy(S0)\n",
    "for i in range(B):\n",
    "    S_b[i] = [{0},{1,2,3},{4}]"
   ]
  },
  {
   "cell_type": "code",
   "execution_count": null,
   "metadata": {},
   "outputs": [],
   "source": [
    "layout_list.index(Layout(T, B, S_b))"
   ]
  },
  {
   "cell_type": "code",
   "execution_count": 64,
   "metadata": {
    "scrolled": false
   },
   "outputs": [
    {
     "data": {
      "text/plain": [
       "[[{0, 1, 2, 3, 4}],\n",
       " [{0, 1, 2, 3, 4}],\n",
       " [{0, 1, 2, 3, 4}],\n",
       " [{0, 1, 2, 3, 4}],\n",
       " [{0, 2, 4}, {1, 3}]]"
      ]
     },
     "execution_count": 64,
     "metadata": {},
     "output_type": "execute_result"
    }
   ],
   "source": [
    "S_b"
   ]
  },
  {
   "cell_type": "code",
   "execution_count": 6,
   "metadata": {},
   "outputs": [
    {
     "data": {
      "text/plain": [
       "[[{1, 2, 3, 4}, {0}], [{1, 2, 3, 4}, {0}], [{1, 2, 3, 4}, {0}], [{1, 2, 3, 4}, {0}], [{1, 2, 3, 4}, {0}]]"
      ]
     },
     "execution_count": 6,
     "metadata": {},
     "output_type": "execute_result"
    }
   ],
   "source": [
    "layout_list[1]"
   ]
  },
  {
   "cell_type": "code",
   "execution_count": 7,
   "metadata": {},
   "outputs": [
    {
     "data": {
      "text/plain": [
       "[[{1, 2, 3, 4}, {0}], [{0}, {3, 4}, {1, 2}], [{0}, {1, 2}, {4}, {3}], [{0}, {1, 2}, {4}, {3}], [{0}, {4}, {3}, {2}, {1}]]"
      ]
     },
     "execution_count": 7,
     "metadata": {},
     "output_type": "execute_result"
    }
   ],
   "source": [
    "layout_list[353]"
   ]
  },
  {
   "cell_type": "markdown",
   "metadata": {},
   "source": [
    "# Paper"
   ]
  },
  {
   "cell_type": "code",
   "execution_count": 3,
   "metadata": {},
   "outputs": [],
   "source": [
    "GMac = [93,\n",
    "        82.288,84.028,72.318,71.598,72.318,\n",
    "        72.318,71.598,72.318,53.878,66.578,\n",
    "        53.878,53.878,55.548,48.138,54.818,\n",
    "        37.108,37.108,36.988,36.268,37.108,\n",
    "        18.558]\n",
    "Delta_acc = [0.0,\n",
    "             4.9,4.2,4.3,2.7,3.4\n",
    "            ,4.3,2.7,3.4,2.9,4.1\n",
    "            ,2.9,3.3,3.0,2.1,2.8\n",
    "            ,2.3,1.1,1.3,0.6,-0.9\n",
    "            ,-4.9]"
   ]
  },
  {
   "cell_type": "code",
   "execution_count": 4,
   "metadata": {},
   "outputs": [],
   "source": [
    "colors = ['#1f77b4', '#ff7f0e', '#2ca02c', '#d62728', '#9467bd']\n",
    "c = ['#9467bd']\n",
    "k = 5\n",
    "for i in range(len(colors)):\n",
    "    if i < 4:\n",
    "        for repeat in range(k):\n",
    "            c.append(colors[i])\n",
    "    else:\n",
    "        c.append(colors[i])"
   ]
  },
  {
   "cell_type": "code",
   "execution_count": 6,
   "metadata": {
    "scrolled": false
   },
   "outputs": [
    {
     "data": {
      "image/png": "[encoded data removed]",
      "text/plain": [
       "<Figure size 432x288 with 1 Axes>"
      ]
     },
     "metadata": {
      "needs_background": "light"
     },
     "output_type": "display_data"
    }
   ],
   "source": [
    "plt.rcParams.update({'font.size': 15})\n",
    "\n",
    "plt.figure(figsize=(6,4))\n",
    "plt.xlabel('Computational Overhead (GFLOPs)')\n",
    "plt.ylabel('Overall Task Relative Perf. (%)')\n",
    "# plt.xlim(right=92.778)\n",
    "plt.scatter(GMac, Delta_acc, c=c)\n",
    "\n",
    "plt.axvline(x=93, color='grey', linestyle='--')\n",
    "plt.axvline(x=75, color='grey', linestyle='--')\n",
    "plt.axvline(x=56, color='grey', linestyle='--')\n",
    "plt.axvline(x=38, color='grey', linestyle='--')\n",
    "plt.axvline(x=18.55, color='grey', linestyle='--')\n",
    "\n",
    "plt.savefig('perf-overhead.png', bbox_inches='tight')"
   ]
  },
  {
   "cell_type": "code",
   "execution_count": null,
   "metadata": {},
   "outputs": [],
   "source": []
  }
 ],
 "metadata": {
  "kernelspec": {
   "display_name": "Python 3",
   "language": "python",
   "name": "python3"
  },
  "language_info": {
   "codemirror_mode": {
    "name": "ipython",
    "version": 3
   },
   "file_extension": ".py",
   "mimetype": "text/x-python",
   "name": "python",
   "nbconvert_exporter": "python",
   "pygments_lexer": "ipython3",
   "version": "3.6.12"
  }
 },
 "nbformat": 4,
 "nbformat_minor": 4
}
