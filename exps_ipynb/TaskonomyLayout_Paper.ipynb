{
 "cells": [
  {
   "cell_type": "code",
   "execution_count": 1,
   "metadata": {},
   "outputs": [],
   "source": [
    "import sys\n",
    "sys.path.append('../')\n",
    "import pandas as pd\n",
    "import numpy as np\n",
    "import itertools\n",
    "import torch\n",
    "import time, copy\n",
    "import matplotlib.pyplot as plt\n",
    "from ptflops import get_model_complexity_info\n",
    "\n",
    "from main.layout import Layout\n",
    "from main.algorithms import enum_layout_wo_rdt, init_S"
   ]
  },
  {
   "cell_type": "code",
   "execution_count": 23,
   "metadata": {},
   "outputs": [
    {
     "name": "stdout",
     "output_type": "stream",
     "text": [
      "2task_mobilenet_0116  2task_resnet34_noise  verify_0123\t\tverify_1026\n",
      "2task_mobilenet_0124  baseline\t\t    verify_0123_reload\tverify_1102\n",
      "2task_mobilenet_0221  exp\t\t    verify_0124\t\tverify_1116\n",
      "2task_mobilenet_1206  verify_0105\t    verify_0221\t\tverify_1118\n",
      "2task_resnet34\t      verify_0105_resnet    verify_1007\t\tverify_1214\n",
      "2task_resnet34_1019   verify_0111\t    verify_1014\n",
      "2task_resnet34_1129   verify_0116\t    verify_1019\n"
     ]
    }
   ],
   "source": [
    "!ls /mnt/nfs/work1/huiguan/lijunzhang/multibranch/log/NYUv2/"
   ]
  },
  {
   "cell_type": "markdown",
   "metadata": {},
   "source": [
    "# All Layouts"
   ]
  },
  {
   "cell_type": "code",
   "execution_count": 16,
   "metadata": {
    "scrolled": true,
    "tags": []
   },
   "outputs": [
    {
     "name": "stdout",
     "output_type": "stream",
     "text": [
      "203\n",
      "--- 0.05146360397338867 seconds ---\n"
     ]
    }
   ],
   "source": [
    "# Enum all layouts for given T (5 for Taskonomy) and B (17 for Deeplab_Resnet34)\n",
    "start_time = time.time()\n",
    "idx = 200\n",
    "\n",
    "T = 6 # segment_semantic, normal, depth_zbuffer, keypoints2d, edge_texture\n",
    "B = 4\n",
    "\n",
    "layout_list = [] \n",
    "S0 = init_S(T, B) # initial state\n",
    "L = Layout(T, B, S0) # initial layout\n",
    "layout_list.append(L)\n",
    "\n",
    "enum_layout_wo_rdt(L, layout_list, idx)\n",
    "print(len(layout_list))\n",
    "\n",
    "print(\"--- %s seconds ---\" % (time.time() - start_time))"
   ]
  },
  {
   "cell_type": "code",
   "execution_count": 17,
   "metadata": {},
   "outputs": [
    {
     "data": {
      "text/plain": [
       "[[{0}, {1}, {4, 5}, {2, 3}], [{0}, {1}, {4, 5}, {2, 3}], [{0}, {1}, {4, 5}, {2, 3}], [{0}, {1}, {4, 5}, {2, 3}]]"
      ]
     },
     "execution_count": 17,
     "metadata": {},
     "output_type": "execute_result"
    }
   ],
   "source": [
    "layout_list[100]"
   ]
  },
  {
   "cell_type": "markdown",
   "metadata": {},
   "source": [
    "# Learn to Branch Layout idx"
   ]
  },
  {
   "cell_type": "code",
   "execution_count": null,
   "metadata": {},
   "outputs": [],
   "source": [
    "# learn to branch\n",
    "S_b = copy.deepcopy(S0)\n",
    "S_b[4] = [{0,1,2},{3,4}]\n",
    "# S_b[15] = [{0,1,2},{3,4}]\n",
    "\n",
    "# BMTAS\n",
    "S_b[4] = [{0,2,4},{1,3}]\n",
    "\n",
    "# AutoMTL\n",
    "# S_b[0] = [{0,1,2},{3},{4}]\n",
    "# S_b[1] = [{0,1,2},{3},{4}]\n",
    "# S_b[2] = [{0,1,2},{3},{4}]\n",
    "# S_b[3] = [{0},{1},{2},{3},{4}]\n",
    "# S_b[4] = [{0},{1},{2},{3},{4}]"
   ]
  },
  {
   "cell_type": "code",
   "execution_count": null,
   "metadata": {},
   "outputs": [],
   "source": [
    "# task grouping\n",
    "S_b = copy.deepcopy(S0)\n",
    "for i in range(B):\n",
    "    S_b[i] = [{0},{1,2,3},{4}]"
   ]
  },
  {
   "cell_type": "code",
   "execution_count": null,
   "metadata": {},
   "outputs": [],
   "source": [
    "layout_list.index(Layout(T, B, S_b))"
   ]
  },
  {
   "cell_type": "code",
   "execution_count": 64,
   "metadata": {},
   "outputs": [
    {
     "data": {
      "text/plain": [
       "[[{0, 1, 2, 3, 4}],\n",
       " [{0, 1, 2, 3, 4}],\n",
       " [{0, 1, 2, 3, 4}],\n",
       " [{0, 1, 2, 3, 4}],\n",
       " [{0, 2, 4}, {1, 3}]]"
      ]
     },
     "execution_count": 64,
     "metadata": {},
     "output_type": "execute_result"
    }
   ],
   "source": [
    "S_b"
   ]
  },
  {
   "cell_type": "code",
   "execution_count": 6,
   "metadata": {},
   "outputs": [
    {
     "data": {
      "text/plain": [
       "[[{1, 2, 3, 4}, {0}], [{1, 2, 3, 4}, {0}], [{1, 2, 3, 4}, {0}], [{1, 2, 3, 4}, {0}], [{1, 2, 3, 4}, {0}]]"
      ]
     },
     "execution_count": 6,
     "metadata": {},
     "output_type": "execute_result"
    }
   ],
   "source": [
    "layout_list[1]"
   ]
  },
  {
   "cell_type": "code",
   "execution_count": 7,
   "metadata": {},
   "outputs": [
    {
     "data": {
      "text/plain": [
       "[[{1, 2, 3, 4}, {0}], [{0}, {3, 4}, {1, 2}], [{0}, {1, 2}, {4}, {3}], [{0}, {1, 2}, {4}, {3}], [{0}, {4}, {3}, {2}, {1}]]"
      ]
     },
     "execution_count": 7,
     "metadata": {},
     "output_type": "execute_result"
    }
   ],
   "source": [
    "layout_list[353]"
   ]
  },
  {
   "cell_type": "markdown",
   "metadata": {},
   "source": [
    "# Paper"
   ]
  },
  {
   "cell_type": "code",
   "execution_count": 3,
   "metadata": {},
   "outputs": [],
   "source": [
    "GMac = [93,\n",
    "        82.288,84.028,72.318,71.598,72.318,\n",
    "        72.318,71.598,72.318,53.878,66.578,\n",
    "        53.878,53.878,55.548,48.138,54.818,\n",
    "        37.108,37.108,36.988,36.268,37.108,\n",
    "        18.558]\n",
    "Delta_acc = [0.0,\n",
    "             4.9,4.2,4.3,2.7,3.4\n",
    "            ,4.3,2.7,3.4,2.9,4.1\n",
    "            ,2.9,3.3,3.0,2.1,2.8\n",
    "            ,2.3,1.1,1.3,0.6,-0.9\n",
    "            ,-4.9]"
   ]
  },
  {
   "cell_type": "code",
   "execution_count": 4,
   "metadata": {},
   "outputs": [],
   "source": [
    "colors = ['#1f77b4', '#ff7f0e', '#2ca02c', '#d62728', '#9467bd']\n",
    "c = ['#9467bd']\n",
    "k = 5\n",
    "for i in range(len(colors)):\n",
    "    if i < 4:\n",
    "        for repeat in range(k):\n",
    "            c.append(colors[i])\n",
    "    else:\n",
    "        c.append(colors[i])"
   ]
  },
  {
   "cell_type": "code",
   "execution_count": 6,
   "metadata": {},
   "outputs": [
    {
     "data": {
      "image/png": "[encoded data removed]",
      "text/plain": [
       "<Figure size 432x288 with 1 Axes>"
      ]
     },
     "metadata": {
      "needs_background": "light"
     },
     "output_type": "display_data"
    }
   ],
   "source": [
    "plt.rcParams.update({'font.size': 15})\n",
    "\n",
    "plt.figure(figsize=(6,4))\n",
    "plt.xlabel('GFLOPs')\n",
    "plt.ylabel('Overall Task Relative Perf. (%)')\n",
    "# plt.xlim(right=92.778)\n",
    "plt.scatter(GMac, Delta_acc, c=c)\n",
    "\n",
    "plt.axvline(x=93, color='grey', linestyle='--')\n",
    "plt.axvline(x=75, color='grey', linestyle='--')\n",
    "plt.axvline(x=56, color='grey', linestyle='--')\n",
    "plt.axvline(x=38, color='grey', linestyle='--')\n",
    "plt.axvline(x=18.55, color='grey', linestyle='--')\n",
    "\n",
    "plt.savefig('perf-overhead.png', bbox_inches='tight')"
   ]
  },
  {
   "cell_type": "code",
   "execution_count": 22,
   "metadata": {},
   "outputs": [],
   "source": [
    "B_GMac = [93,18.558]\n",
    "B_Delta_acc = [0.0,-4.9]\n",
    "My_GMac = [82.288,72.318,53.878,37.108]\n",
    "My_Delta_acc = [4.9,4.3,3.3,2.3]\n",
    "Two_GMac = [92.658,55.668]\n",
    "Two_Delta_acc = [0.1,2.4]\n",
    "Soft_GMac = [92.788,92.788,100.55,82.99]\n",
    "Soft_Delta_acc = [-1.6,-2.8,-1.5,-3.0]\n",
    "NAS_GMac = [29.588,94.77,87.75,89.208]\n",
    "NAS_Delta_acc = [-0.5,-10.4,0.8,4.7]"
   ]
  },
  {
   "cell_type": "code",
   "execution_count": 27,
   "metadata": {},
   "outputs": [
    {
     "data": {
      "image/png": "[encoded data removed]",
      "text/plain": [
       "<Figure size 432x288 with 1 Axes>"
      ]
     },
     "metadata": {
      "needs_background": "light"
     },
     "output_type": "display_data"
    }
   ],
   "source": [
    "plt.rcParams.update({'font.size': 15})\n",
    "\n",
    "plt.figure(figsize=(6,4))\n",
    "plt.xlabel('GFLOPs')\n",
    "plt.ylabel('Overall Task Relative Perf. (%)')\n",
    "\n",
    "plt.scatter(B_GMac, B_Delta_acc, c=['#9467bd','#9467bd'])\n",
    "plt.scatter(My_GMac, My_Delta_acc, marker='*', c=['#d62728','#d62728','#d62728','#d62728'])\n",
    "plt.scatter(Two_GMac, Two_Delta_acc, marker='v', c=['#36e0c4','#3430ab'])\n",
    "plt.scatter(Soft_GMac, Soft_Delta_acc, marker='v', c=['#ff7f0e','#2ca02c','#1f77b4', '#d9db40'])\n",
    "plt.scatter(NAS_GMac, NAS_Delta_acc, marker='s', c=['#ff7f0e','#2ca02c','#1f77b4', '#d9db40'])\n",
    "\n",
    "plt.axvline(x=93, color='grey', linestyle='--')\n",
    "plt.axvline(x=75, color='grey', linestyle='--')\n",
    "plt.axvline(x=56, color='grey', linestyle='--')\n",
    "plt.axvline(x=38, color='grey', linestyle='--')\n",
    "plt.axvline(x=18.55, color='grey', linestyle='--')\n",
    "\n",
    "plt.savefig('perf-overhead2.png', bbox_inches='tight')"
   ]
  },
  {
   "cell_type": "code",
   "execution_count": null,
   "metadata": {},
   "outputs": [],
   "source": []
  },
  {
   "cell_type": "code",
   "execution_count": null,
   "metadata": {},
   "outputs": [],
   "source": []
  },
  {
   "cell_type": "code",
   "execution_count": null,
   "metadata": {},
   "outputs": [],
   "source": []
  }
 ],
 "metadata": {
  "kernelspec": {
   "display_name": "Python (.conda-multitask)",
   "language": "python",
   "name": "conda-env-.conda-multitask-py"
  },
  "language_info": {
   "codemirror_mode": {
    "name": "ipython",
    "version": 3
   },
   "file_extension": ".py",
   "mimetype": "text/x-python",
   "name": "python",
   "nbconvert_exporter": "python",
   "pygments_lexer": "ipython3",
   "version": "3.9.15"
  }
 },
 "nbformat": 4,
 "nbformat_minor": 4
}
