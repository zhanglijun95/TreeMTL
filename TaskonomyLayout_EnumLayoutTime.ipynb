{
 "cells": [
  {
   "cell_type": "code",
   "execution_count": 1,
   "metadata": {},
   "outputs": [],
   "source": [
    "import pandas as pd\n",
    "import numpy as np\n",
    "import itertools\n",
    "import torch\n",
    "import time, copy\n",
    "from ptflops import get_model_complexity_info\n",
    "\n",
    "from main.layout import Layout\n",
    "from main.algorithms import enum_layout_wo_rdt, init_S"
   ]
  },
  {
   "cell_type": "markdown",
   "metadata": {},
   "source": [
    "# All Layouts"
   ]
  },
  {
   "cell_type": "code",
   "execution_count": 2,
   "metadata": {},
   "outputs": [
    {
     "name": "stdout",
     "output_type": "stream",
     "text": [
      "64660\n",
      "--- 3652.153185606003 seconds ---\n"
     ]
    }
   ],
   "source": [
    "# Enum all layouts for given T (5 for Taskonomy) and B (17 for Deeplab_Resnet34)\n",
    "start_time = time.time()\n",
    "\n",
    "T = 5 # segment_semantic, normal, depth_zbuffer, keypoints2d, edge_texture\n",
    "B = 9\n",
    "\n",
    "layout_list = [] \n",
    "S0 = init_S(T, B) # initial state\n",
    "L = Layout(T, B, S0) # initial layout\n",
    "layout_list.append(L)\n",
    "\n",
    "enum_layout_wo_rdt(L, layout_list)\n",
    "print(len(layout_list))\n",
    "\n",
    "print(\"--- %s seconds ---\" % (time.time() - start_time))"
   ]
  },
  {
   "cell_type": "markdown",
   "metadata": {},
   "source": [
    "# Learn to Branch Layout idx"
   ]
  },
  {
   "cell_type": "code",
   "execution_count": 4,
   "metadata": {},
   "outputs": [],
   "source": [
    "# learn to branch\n",
    "S_b = copy.deepcopy(S0)\n",
    "S_b[16] = [{0,1,2},{3,4}]\n",
    "S_b[15] = [{0,1,2},{3,4}]"
   ]
  },
  {
   "cell_type": "code",
   "execution_count": 3,
   "metadata": {},
   "outputs": [],
   "source": [
    "# task grouping\n",
    "S_b = copy.deepcopy(S0)\n",
    "for i in range(B):\n",
    "    S_b[i] = [{0},{1,2,3},{4}]"
   ]
  },
  {
   "cell_type": "code",
   "execution_count": 5,
   "metadata": {},
   "outputs": [
    {
     "data": {
      "text/plain": [
       "651"
      ]
     },
     "execution_count": 5,
     "metadata": {},
     "output_type": "execute_result"
    }
   ],
   "source": [
    "layout_list.index(Layout(T, B, S_b))"
   ]
  },
  {
   "cell_type": "code",
   "execution_count": 4,
   "metadata": {
    "scrolled": false
   },
   "outputs": [
    {
     "data": {
      "text/plain": [
       "[[{0}, {1, 2, 3}, {4}],\n",
       " [{0}, {1, 2, 3}, {4}],\n",
       " [{0}, {1, 2, 3}, {4}],\n",
       " [{0}, {1, 2, 3}, {4}],\n",
       " [{0}, {1, 2, 3}, {4}],\n",
       " [{0}, {1, 2, 3}, {4}],\n",
       " [{0}, {1, 2, 3}, {4}],\n",
       " [{0}, {1, 2, 3}, {4}],\n",
       " [{0}, {1, 2, 3}, {4}]]"
      ]
     },
     "execution_count": 4,
     "metadata": {},
     "output_type": "execute_result"
    }
   ],
   "source": [
    "S_b"
   ]
  },
  {
   "cell_type": "code",
   "execution_count": null,
   "metadata": {},
   "outputs": [],
   "source": []
  }
 ],
 "metadata": {
  "kernelspec": {
   "display_name": "Python 3",
   "language": "python",
   "name": "python3"
  },
  "language_info": {
   "codemirror_mode": {
    "name": "ipython",
    "version": 3
   },
   "file_extension": ".py",
   "mimetype": "text/x-python",
   "name": "python",
   "nbconvert_exporter": "python",
   "pygments_lexer": "ipython3",
   "version": "3.6.12"
  }
 },
 "nbformat": 4,
 "nbformat_minor": 4
}
