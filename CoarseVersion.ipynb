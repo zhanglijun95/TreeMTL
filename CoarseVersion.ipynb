{
 "cells": [
  {
   "cell_type": "code",
   "execution_count": 3,
   "id": "64d4b724",
   "metadata": {},
   "outputs": [],
   "source": [
    "import pandas as pd\n",
    "import numpy as np\n",
    "import itertools\n",
    "import pickle\n",
    "import torch\n",
    "import matplotlib.pyplot as plt\n",
    "from shutil import copyfile\n",
    "%matplotlib inline\n",
    "from statistics import mean\n",
    "from scipy import stats, spatial\n",
    "from ptflops import get_model_complexity_info\n",
    "from shutil import copyfile\n",
    "\n",
    "from main.layout import Layout\n",
    "from main.models import Deeplab_ASPP_Layout\n",
    "from main.algorithms import enum_layout, remove_redundancy, enum_layout_wo_rdt, metric_inference, init_S"
   ]
  },
  {
   "cell_type": "markdown",
   "id": "5f7767b3",
   "metadata": {},
   "source": [
    "# Enum coarse layout B=5"
   ]
  },
  {
   "cell_type": "code",
   "execution_count": 10,
   "id": "7fc7b6b5",
   "metadata": {},
   "outputs": [
    {
     "data": {
      "text/plain": [
       "70"
      ]
     },
     "execution_count": 10,
     "metadata": {},
     "output_type": "execute_result"
    }
   ],
   "source": [
    "# Enum all layouts for given T (3 for NYUv2) and B (5 for coarse Deeplab_Resnet34)\n",
    "T = 3 # segment_semantic, normal, depth_zbuffer\n",
    "B = 6\n",
    "\n",
    "layout_list = [] \n",
    "S0 = init_S(T, B) # initial state\n",
    "L = Layout(T, B, S0) # initial layout\n",
    "layout_list.append(L)\n",
    "\n",
    "enum_layout_wo_rdt(L, layout_list)\n",
    "len(layout_list)"
   ]
  },
  {
   "cell_type": "code",
   "execution_count": 4,
   "id": "cc78c431",
   "metadata": {},
   "outputs": [
    {
     "name": "stdout",
     "output_type": "stream",
     "text": [
      "[[{0, 1, 2}], [{0, 1, 2}], [{0, 1, 2}], [{1}, {0, 2}], [{1}, {0, 2}]]\n",
      "[[{0, 1, 2}], [{0, 1, 2}], [{0, 1, 2}], [{1}, {0, 2}], [{1}, {2}, {0}]]\n"
     ]
    }
   ],
   "source": [
    "# Simialr layouts\n",
    "print(layout_list[43])\n",
    "print(layout_list[44])"
   ]
  },
  {
   "cell_type": "code",
   "execution_count": 3,
   "id": "035dfd4c",
   "metadata": {
    "scrolled": true
   },
   "outputs": [
    {
     "data": {
      "text/plain": [
       "[[[{0, 1, 2}], [{0, 1, 2}], [{0, 1, 2}], [{0, 1, 2}], [{0, 1, 2}]],\n",
       " [[{1, 2}, {0}], [{1, 2}, {0}], [{1, 2}, {0}], [{1, 2}, {0}], [{1, 2}, {0}]],\n",
       " [[{0}, {2}, {1}], [{0}, {2}, {1}], [{0}, {2}, {1}], [{0}, {2}, {1}], [{0}, {2}, {1}]],\n",
       " [[{1, 2}, {0}], [{0}, {2}, {1}], [{0}, {2}, {1}], [{0}, {2}, {1}], [{0}, {2}, {1}]],\n",
       " [[{1, 2}, {0}], [{1, 2}, {0}], [{0}, {2}, {1}], [{0}, {2}, {1}], [{0}, {2}, {1}]],\n",
       " [[{1, 2}, {0}], [{1, 2}, {0}], [{1, 2}, {0}], [{0}, {2}, {1}], [{0}, {2}, {1}]],\n",
       " [[{1, 2}, {0}], [{1, 2}, {0}], [{1, 2}, {0}], [{1, 2}, {0}], [{0}, {2}, {1}]],\n",
       " [[{1}, {0, 2}], [{1}, {0, 2}], [{1}, {0, 2}], [{1}, {0, 2}], [{1}, {0, 2}]],\n",
       " [[{1}, {0, 2}], [{1}, {2}, {0}], [{1}, {2}, {0}], [{1}, {2}, {0}], [{1}, {2}, {0}]],\n",
       " [[{1}, {0, 2}], [{1}, {0, 2}], [{1}, {2}, {0}], [{1}, {2}, {0}], [{1}, {2}, {0}]],\n",
       " [[{1}, {0, 2}], [{1}, {0, 2}], [{1}, {0, 2}], [{1}, {2}, {0}], [{1}, {2}, {0}]],\n",
       " [[{1}, {0, 2}], [{1}, {0, 2}], [{1}, {0, 2}], [{1}, {0, 2}], [{1}, {2}, {0}]],\n",
       " [[{2}, {0, 1}], [{2}, {0, 1}], [{2}, {0, 1}], [{2}, {0, 1}], [{2}, {0, 1}]],\n",
       " [[{2}, {0, 1}], [{2}, {1}, {0}], [{2}, {1}, {0}], [{2}, {1}, {0}], [{2}, {1}, {0}]],\n",
       " [[{2}, {0, 1}], [{2}, {0, 1}], [{2}, {1}, {0}], [{2}, {1}, {0}], [{2}, {1}, {0}]],\n",
       " [[{2}, {0, 1}], [{2}, {0, 1}], [{2}, {0, 1}], [{2}, {1}, {0}], [{2}, {1}, {0}]],\n",
       " [[{2}, {0, 1}], [{2}, {0, 1}], [{2}, {0, 1}], [{2}, {0, 1}], [{2}, {1}, {0}]],\n",
       " [[{0, 1, 2}], [{1, 2}, {0}], [{1, 2}, {0}], [{1, 2}, {0}], [{1, 2}, {0}]],\n",
       " [[{0, 1, 2}], [{0}, {2}, {1}], [{0}, {2}, {1}], [{0}, {2}, {1}], [{0}, {2}, {1}]],\n",
       " [[{0, 1, 2}], [{1, 2}, {0}], [{0}, {2}, {1}], [{0}, {2}, {1}], [{0}, {2}, {1}]],\n",
       " [[{0, 1, 2}], [{1, 2}, {0}], [{1, 2}, {0}], [{0}, {2}, {1}], [{0}, {2}, {1}]],\n",
       " [[{0, 1, 2}], [{1, 2}, {0}], [{1, 2}, {0}], [{1, 2}, {0}], [{0}, {2}, {1}]],\n",
       " [[{0, 1, 2}], [{1}, {0, 2}], [{1}, {0, 2}], [{1}, {0, 2}], [{1}, {0, 2}]],\n",
       " [[{0, 1, 2}], [{1}, {0, 2}], [{1}, {2}, {0}], [{1}, {2}, {0}], [{1}, {2}, {0}]],\n",
       " [[{0, 1, 2}], [{1}, {0, 2}], [{1}, {0, 2}], [{1}, {2}, {0}], [{1}, {2}, {0}]],\n",
       " [[{0, 1, 2}], [{1}, {0, 2}], [{1}, {0, 2}], [{1}, {0, 2}], [{1}, {2}, {0}]],\n",
       " [[{0, 1, 2}], [{2}, {0, 1}], [{2}, {0, 1}], [{2}, {0, 1}], [{2}, {0, 1}]],\n",
       " [[{0, 1, 2}], [{2}, {0, 1}], [{2}, {1}, {0}], [{2}, {1}, {0}], [{2}, {1}, {0}]],\n",
       " [[{0, 1, 2}], [{2}, {0, 1}], [{2}, {0, 1}], [{2}, {1}, {0}], [{2}, {1}, {0}]],\n",
       " [[{0, 1, 2}], [{2}, {0, 1}], [{2}, {0, 1}], [{2}, {0, 1}], [{2}, {1}, {0}]],\n",
       " [[{0, 1, 2}], [{0, 1, 2}], [{1, 2}, {0}], [{1, 2}, {0}], [{1, 2}, {0}]],\n",
       " [[{0, 1, 2}], [{0, 1, 2}], [{0}, {2}, {1}], [{0}, {2}, {1}], [{0}, {2}, {1}]],\n",
       " [[{0, 1, 2}], [{0, 1, 2}], [{1, 2}, {0}], [{0}, {2}, {1}], [{0}, {2}, {1}]],\n",
       " [[{0, 1, 2}], [{0, 1, 2}], [{1, 2}, {0}], [{1, 2}, {0}], [{0}, {2}, {1}]],\n",
       " [[{0, 1, 2}], [{0, 1, 2}], [{1}, {0, 2}], [{1}, {0, 2}], [{1}, {0, 2}]],\n",
       " [[{0, 1, 2}], [{0, 1, 2}], [{1}, {0, 2}], [{1}, {2}, {0}], [{1}, {2}, {0}]],\n",
       " [[{0, 1, 2}], [{0, 1, 2}], [{1}, {0, 2}], [{1}, {0, 2}], [{1}, {2}, {0}]],\n",
       " [[{0, 1, 2}], [{0, 1, 2}], [{2}, {0, 1}], [{2}, {0, 1}], [{2}, {0, 1}]],\n",
       " [[{0, 1, 2}], [{0, 1, 2}], [{2}, {0, 1}], [{2}, {1}, {0}], [{2}, {1}, {0}]],\n",
       " [[{0, 1, 2}], [{0, 1, 2}], [{2}, {0, 1}], [{2}, {0, 1}], [{2}, {1}, {0}]],\n",
       " [[{0, 1, 2}], [{0, 1, 2}], [{0, 1, 2}], [{1, 2}, {0}], [{1, 2}, {0}]],\n",
       " [[{0, 1, 2}], [{0, 1, 2}], [{0, 1, 2}], [{0}, {2}, {1}], [{0}, {2}, {1}]],\n",
       " [[{0, 1, 2}], [{0, 1, 2}], [{0, 1, 2}], [{1, 2}, {0}], [{0}, {2}, {1}]],\n",
       " [[{0, 1, 2}], [{0, 1, 2}], [{0, 1, 2}], [{1}, {0, 2}], [{1}, {0, 2}]],\n",
       " [[{0, 1, 2}], [{0, 1, 2}], [{0, 1, 2}], [{1}, {0, 2}], [{1}, {2}, {0}]],\n",
       " [[{0, 1, 2}], [{0, 1, 2}], [{0, 1, 2}], [{2}, {0, 1}], [{2}, {0, 1}]],\n",
       " [[{0, 1, 2}], [{0, 1, 2}], [{0, 1, 2}], [{2}, {0, 1}], [{2}, {1}, {0}]],\n",
       " [[{0, 1, 2}], [{0, 1, 2}], [{0, 1, 2}], [{0, 1, 2}], [{1, 2}, {0}]],\n",
       " [[{0, 1, 2}], [{0, 1, 2}], [{0, 1, 2}], [{0, 1, 2}], [{0}, {2}, {1}]],\n",
       " [[{0, 1, 2}], [{0, 1, 2}], [{0, 1, 2}], [{0, 1, 2}], [{1}, {0, 2}]],\n",
       " [[{0, 1, 2}], [{0, 1, 2}], [{0, 1, 2}], [{0, 1, 2}], [{2}, {0, 1}]]]"
      ]
     },
     "execution_count": 3,
     "metadata": {},
     "output_type": "execute_result"
    }
   ],
   "source": [
    "layout_list"
   ]
  },
  {
   "cell_type": "markdown",
   "id": "43a5ccce",
   "metadata": {},
   "source": [
    "# Convert coarse layout to fine-grained layout for multi-task model"
   ]
  },
  {
   "cell_type": "code",
   "execution_count": 7,
   "id": "00d480bc",
   "metadata": {},
   "outputs": [],
   "source": [
    "fined_B = 17\n",
    "mapping = {0:[0], 1:[1,2,3], 2:[4,5,6,7], 3:[8,9,10,11,12,13], 4:[14,15,16], 5:[17]}"
   ]
  },
  {
   "cell_type": "code",
   "execution_count": 15,
   "id": "48dedd11",
   "metadata": {},
   "outputs": [],
   "source": [
    "def coarse_to_fined(L, fined_B, mapping):\n",
    "    S = []\n",
    "    for idx in range(L.B):\n",
    "        for times in mapping[idx]:\n",
    "            S.append(L.state[idx])\n",
    "    new_L = Layout(L.T, fined_B, S)\n",
    "    return new_L"
   ]
  },
  {
   "cell_type": "code",
   "execution_count": 22,
   "id": "d665491b",
   "metadata": {},
   "outputs": [
    {
     "data": {
      "text/plain": [
       "[[{0, 1, 2}], [{0, 1, 2}], [{0, 1, 2}], [{0, 1, 2}], [{0, 1, 2}], [{0, 1, 2}], [{0, 1, 2}], [{0, 1, 2}], [{1}, {0, 2}], [{1}, {0, 2}], [{1}, {0, 2}], [{1}, {0, 2}], [{1}, {0, 2}], [{1}, {0, 2}], [{1}, {2}, {0}], [{1}, {2}, {0}], [{1}, {2}, {0}]]"
      ]
     },
     "execution_count": 22,
     "metadata": {},
     "output_type": "execute_result"
    }
   ],
   "source": [
    "coarse_to_fined(layout_list[44], fined_B, mapping)"
   ]
  },
  {
   "cell_type": "code",
   "execution_count": 18,
   "id": "ebe6a63b",
   "metadata": {},
   "outputs": [
    {
     "data": {
      "text/plain": [
       "[[{0, 1, 2}], [{0, 1, 2}], [{0, 1, 2}], [{1}, {0, 2}], [{1}, {2}, {0}]]"
      ]
     },
     "execution_count": 18,
     "metadata": {},
     "output_type": "execute_result"
    }
   ],
   "source": [
    "layout_list[44]"
   ]
  },
  {
   "cell_type": "markdown",
   "id": "6fdcf082",
   "metadata": {},
   "source": [
    "# Convert fined 2task results to coarse"
   ]
  },
  {
   "cell_type": "code",
   "execution_count": 1,
   "id": "0767cffb",
   "metadata": {},
   "outputs": [],
   "source": [
    "fined_2task_dir = './log/2task_coarse_NYUv2_mobilenet_v1/'\n",
    "coarse_2task_dir = './log/2task_coarse_NYUv2_mobilenet/'"
   ]
  },
  {
   "cell_type": "code",
   "execution_count": 4,
   "id": "0474cc45",
   "metadata": {},
   "outputs": [
    {
     "name": "stdout",
     "output_type": "stream",
     "text": [
      "('segment_semantic', 'normal')\n",
      "('normal', 'depth_zbuffer')\n",
      "('segment_semantic', 'depth_zbuffer')\n"
     ]
    }
   ],
   "source": [
    "tasks = ['segment_semantic','normal','depth_zbuffer']\n",
    "B = 6\n",
    "mapping = {0:[0], 1:[1,2], 2:[3], 3:[4], 4:[5,6], 5:[7,8], 6:[9]}\n",
    "\n",
    "for two_task in set(itertools.combinations(tasks, 2)):\n",
    "    print(two_task)\n",
    "    \n",
    "    for idx in range(B+1):\n",
    "        i = mapping[idx][0]\n",
    "        log = '_'.join(two_task) + '_b' + str(i) + '.stdout'\n",
    "        new_log = '_'.join(two_task) + '_b' + str(idx) + '.stdout'\n",
    "        copyfile(fined_2task_dir + log, coarse_2task_dir + new_log)"
   ]
  },
  {
   "cell_type": "code",
   "execution_count": null,
   "id": "61d6cd95",
   "metadata": {},
   "outputs": [],
   "source": []
  }
 ],
 "metadata": {
  "kernelspec": {
   "display_name": "Python 3",
   "language": "python",
   "name": "python3"
  },
  "language_info": {
   "codemirror_mode": {
    "name": "ipython",
    "version": 3
   },
   "file_extension": ".py",
   "mimetype": "text/x-python",
   "name": "python",
   "nbconvert_exporter": "python",
   "pygments_lexer": "ipython3",
   "version": "3.6.12"
  }
 },
 "nbformat": 4,
 "nbformat_minor": 5
}
