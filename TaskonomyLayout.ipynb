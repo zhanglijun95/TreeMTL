{
 "cells": [
  {
   "cell_type": "code",
   "execution_count": 5,
   "metadata": {},
   "outputs": [],
   "source": [
    "import pandas as pd\n",
    "import numpy as np\n",
    "import itertools\n",
    "import torch\n",
    "import time, copy\n",
    "\n",
    "from main.layout import Layout\n",
    "from main.algorithms import enum_layout_wo_rdt, init_S"
   ]
  },
  {
   "cell_type": "markdown",
   "metadata": {},
   "source": [
    "# All Layouts"
   ]
  },
  {
   "cell_type": "code",
   "execution_count": 2,
   "metadata": {},
   "outputs": [
    {
     "name": "stdout",
     "output_type": "stream",
     "text": [
      "1058251\n",
      "--- 728.3807499408722 seconds ---\n"
     ]
    }
   ],
   "source": [
    "# Enum all layouts for given T (5 for Taskonomy) and B (17 for Deeplab_Resnet34)\n",
    "start_time = time.time()\n",
    "\n",
    "T = 5 # segment_semantic, normal, depth_zbuffer, keypoints2d, edge_texture\n",
    "B = 17 \n",
    "\n",
    "layout_list = [] \n",
    "S0 = init_S(T, B) # initial state\n",
    "L = Layout(T, B, S0) # initial layout\n",
    "layout_list.append(L)\n",
    "\n",
    "enum_layout_wo_rdt(L, layout_list)\n",
    "print(len(layout_list))\n",
    "\n",
    "print(\"--- %s seconds ---\" % (time.time() - start_time))"
   ]
  },
  {
   "cell_type": "markdown",
   "metadata": {},
   "source": [
    "# Learn to Branch Layout idx"
   ]
  },
  {
   "cell_type": "code",
   "execution_count": 10,
   "metadata": {},
   "outputs": [],
   "source": [
    "S_b = copy.deepcopy(S0)\n",
    "S_b[16] = [{0,1,2},{3,4}]\n",
    "S_b[15] = [{0,1,2},{3,4}]"
   ]
  },
  {
   "cell_type": "code",
   "execution_count": 13,
   "metadata": {},
   "outputs": [
    {
     "data": {
      "text/plain": [
       "1057447"
      ]
     },
     "execution_count": 13,
     "metadata": {},
     "output_type": "execute_result"
    }
   ],
   "source": [
    "layout_list.index(Layout(T, B, S_b))"
   ]
  },
  {
   "cell_type": "code",
   "execution_count": 11,
   "metadata": {
    "scrolled": false
   },
   "outputs": [
    {
     "data": {
      "text/plain": [
       "[[{0, 1, 2, 3, 4}],\n",
       " [{0, 1, 2, 3, 4}],\n",
       " [{0, 1, 2, 3, 4}],\n",
       " [{0, 1, 2, 3, 4}],\n",
       " [{0, 1, 2, 3, 4}],\n",
       " [{0, 1, 2, 3, 4}],\n",
       " [{0, 1, 2, 3, 4}],\n",
       " [{0, 1, 2, 3, 4}],\n",
       " [{0, 1, 2, 3, 4}],\n",
       " [{0, 1, 2, 3, 4}],\n",
       " [{0, 1, 2, 3, 4}],\n",
       " [{0, 1, 2, 3, 4}],\n",
       " [{0, 1, 2, 3, 4}],\n",
       " [{0, 1, 2, 3, 4}],\n",
       " [{0, 1, 2, 3, 4}],\n",
       " [{0, 1, 2}, {3, 4}],\n",
       " [{0, 1, 2}, {3, 4}]]"
      ]
     },
     "execution_count": 11,
     "metadata": {},
     "output_type": "execute_result"
    }
   ],
   "source": [
    "S_b"
   ]
  },
  {
   "cell_type": "code",
   "execution_count": 14,
   "metadata": {},
   "outputs": [
    {
     "data": {
      "text/plain": [
       "[[{0, 1, 2, 3, 4}], [{0, 1, 2, 3, 4}], [{0, 1, 2, 3, 4}], [{0, 1, 2, 3, 4}], [{0, 1, 2, 3, 4}], [{0, 1, 2, 3, 4}], [{0, 1, 2, 3, 4}], [{0, 1, 2, 3, 4}], [{0, 1, 2, 3, 4}], [{0, 1, 2, 3, 4}], [{0, 1, 2, 3, 4}], [{0, 1, 2, 3, 4}], [{0, 1, 2, 3, 4}], [{0, 1, 2, 3, 4}], [{0, 1, 2, 3, 4}], [{3, 4}, {0, 1, 2}], [{3, 4}, {0, 1, 2}]]"
      ]
     },
     "execution_count": 14,
     "metadata": {},
     "output_type": "execute_result"
    }
   ],
   "source": [
    "layout_list[1057447]"
   ]
  },
  {
   "cell_type": "code",
   "execution_count": null,
   "metadata": {},
   "outputs": [],
   "source": []
  }
 ],
 "metadata": {
  "kernelspec": {
   "display_name": "Python 3",
   "language": "python",
   "name": "python3"
  },
  "language_info": {
   "codemirror_mode": {
    "name": "ipython",
    "version": 3
   },
   "file_extension": ".py",
   "mimetype": "text/x-python",
   "name": "python",
   "nbconvert_exporter": "python",
   "pygments_lexer": "ipython3",
   "version": "3.6.12"
  }
 },
 "nbformat": 4,
 "nbformat_minor": 4
}
