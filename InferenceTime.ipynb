{
 "cells": [
  {
   "cell_type": "code",
   "execution_count": 6,
   "id": "3a4d5d8b",
   "metadata": {},
   "outputs": [],
   "source": [
    "import numpy as np\n",
    "import random\n",
    "import os\n",
    "import argparse\n",
    "import time\n",
    "from pathlib import Path\n",
    "\n",
    "import torch\n",
    "import torch.nn as nn\n",
    "import torch.nn.functional as F\n",
    "from torch.utils.data import DataLoader\n",
    "\n",
    "from main.layout import Layout\n",
    "from main.algorithms import enum_layout_wo_rdt, init_S, coarse_to_fined\n",
    "from main.auto_models import MTSeqBackbone, MTSeqModel\n",
    "from main.trainer import Trainer\n",
    "\n",
    "from data.nyuv2_dataloader_adashare import NYU_v2\n",
    "from data.taskonomy_dataloader_adashare import Taskonomy\n",
    "from data.pixel2pixel_loss import NYUCriterions, TaskonomyCriterions\n",
    "from data.pixel2pixel_metrics import NYUMetrics, TaskonomyMetrics"
   ]
  },
  {
   "cell_type": "code",
   "execution_count": 3,
   "id": "48d39ee6",
   "metadata": {},
   "outputs": [],
   "source": [
    "dataroot = '/mnt/nfs/work1/huiguan/lijunzhang/policymtl/data/Taskonomy/'\n",
    "\n",
    "tasks = ['segment_semantic','normal','depth_zbuffer','keypoints2d','edge_texture']\n",
    "cls_num = {'segment_semantic': 17, 'normal': 3, 'depth_zbuffer': 1, 'keypoints2d': 1, 'edge_texture': 1}\n",
    "\n",
    "dataset = Taskonomy(dataroot, 'train', crop_h=224, crop_w=224)\n",
    "trainDataloader = DataLoader(dataset, batch_size=16, shuffle=True)\n",
    "\n",
    "dataset = Taskonomy(dataroot, 'test_small', crop_h=224, crop_w=224)\n",
    "valDataloader = DataLoader(dataset, batch_size=1, shuffle=False)"
   ]
  },
  {
   "cell_type": "code",
   "execution_count": 4,
   "id": "fde35b3e",
   "metadata": {},
   "outputs": [],
   "source": [
    "prototxt = 'models/deeplab_resnet34_adashare.prototxt'\n",
    "coarse_B = 5\n",
    "mapping = {0:[0], 1:[1,2,3], 2:[4,5,6,7], 3:[8,9,10,11,12,13], 4:[14,15,16], 5:[17]}"
   ]
  },
  {
   "cell_type": "code",
   "execution_count": 5,
   "id": "ebeba5c0",
   "metadata": {},
   "outputs": [],
   "source": [
    "with torch.cuda.device(0):\n",
    "    backbone = MTSeqBackbone(prototxt)\n",
    "    fined_B = len(backbone.basic_blocks)\n",
    "    feature_dim = backbone(torch.rand(1,3,224,224)).shape[1]"
   ]
  },
  {
   "cell_type": "code",
   "execution_count": 18,
   "id": "4b879ddd",
   "metadata": {},
   "outputs": [
    {
     "name": "stdout",
     "output_type": "stream",
     "text": [
      "Coarse Layout:\n",
      "[[{1, 2, 4}, {0, 3}], [{0, 3}, {4}, {1, 2}], [{0, 3}, {4}, {1, 2}], [{0, 3}, {4}, {2}, {1}], [{0, 3}, {4}, {2}, {1}]]\n",
      "Fined Layout:\n",
      "[[{1, 2, 4}, {0, 3}], [{0, 3}, {4}, {1, 2}], [{0, 3}, {4}, {1, 2}], [{0, 3}, {4}, {1, 2}], [{0, 3}, {4}, {1, 2}], [{0, 3}, {4}, {1, 2}], [{0, 3}, {4}, {1, 2}], [{0, 3}, {4}, {1, 2}], [{0, 3}, {4}, {2}, {1}], [{0, 3}, {4}, {2}, {1}], [{0, 3}, {4}, {2}, {1}], [{0, 3}, {4}, {2}, {1}], [{0, 3}, {4}, {2}, {1}], [{0, 3}, {4}, {2}, {1}], [{0, 3}, {4}, {2}, {1}], [{0, 3}, {4}, {2}, {1}], [{0, 3}, {4}, {2}, {1}]]\n"
     ]
    }
   ],
   "source": [
    "T = len(tasks)\n",
    "    \n",
    "layout_list = [] \n",
    "S0 = init_S(T, coarse_B) # initial state\n",
    "L = Layout(T, coarse_B, S0) # initial layout\n",
    "layout_list.append(L)\n",
    "\n",
    "enum_layout_wo_rdt(L, layout_list)"
   ]
  },
  {
   "cell_type": "code",
   "execution_count": 67,
   "id": "e49a5473",
   "metadata": {},
   "outputs": [
    {
     "name": "stdout",
     "output_type": "stream",
     "text": [
      "Coarse Layout:\n",
      "[[{0}, {1}, {2}, {4}, {3}], [{0}, {1}, {2}, {4}, {3}], [{0}, {1}, {2}, {4}, {3}], [{0}, {1}, {2}, {4}, {3}], [{0}, {1}, {2}, {4}, {3}]]\n",
      "Fined Layout:\n",
      "[[{0}, {1}, {2}, {4}, {3}], [{0}, {1}, {2}, {4}, {3}], [{0}, {1}, {2}, {4}, {3}], [{0}, {1}, {2}, {4}, {3}], [{0}, {1}, {2}, {4}, {3}], [{0}, {1}, {2}, {4}, {3}], [{0}, {1}, {2}, {4}, {3}], [{0}, {1}, {2}, {4}, {3}], [{0}, {1}, {2}, {4}, {3}], [{0}, {1}, {2}, {4}, {3}], [{0}, {1}, {2}, {4}, {3}], [{0}, {1}, {2}, {4}, {3}], [{0}, {1}, {2}, {4}, {3}], [{0}, {1}, {2}, {4}, {3}], [{0}, {1}, {2}, {4}, {3}], [{0}, {1}, {2}, {4}, {3}], [{0}, {1}, {2}, {4}, {3}]]\n"
     ]
    }
   ],
   "source": [
    "layout_idx = 4\n",
    "layout = layout_list[layout_idx]\n",
    "print('Coarse Layout:', flush=True)\n",
    "print(layout, flush=True)\n",
    "\n",
    "layout = coarse_to_fined(layout, fined_B, mapping)\n",
    "print('Fined Layout:', flush=True)\n",
    "print(layout, flush=True)"
   ]
  },
  {
   "cell_type": "code",
   "execution_count": 68,
   "id": "b18cdc9c",
   "metadata": {},
   "outputs": [
    {
     "name": "stdout",
     "output_type": "stream",
     "text": [
      "Construct MTSeqModel from Layout:\n",
      "[[{0}, {1}, {2}, {4}, {3}], [{0}, {1}, {2}, {4}, {3}], [{0}, {1}, {2}, {4}, {3}], [{0}, {1}, {2}, {4}, {3}], [{0}, {1}, {2}, {4}, {3}], [{0}, {1}, {2}, {4}, {3}], [{0}, {1}, {2}, {4}, {3}], [{0}, {1}, {2}, {4}, {3}], [{0}, {1}, {2}, {4}, {3}], [{0}, {1}, {2}, {4}, {3}], [{0}, {1}, {2}, {4}, {3}], [{0}, {1}, {2}, {4}, {3}], [{0}, {1}, {2}, {4}, {3}], [{0}, {1}, {2}, {4}, {3}], [{0}, {1}, {2}, {4}, {3}], [{0}, {1}, {2}, {4}, {3}], [{0}, {1}, {2}, {4}, {3}]]\n"
     ]
    }
   ],
   "source": [
    "model = MTSeqModel(prototxt, layout=layout, feature_dim=feature_dim, cls_num=cls_num).cuda()"
   ]
  },
  {
   "cell_type": "code",
   "execution_count": 69,
   "id": "3c3ed81d",
   "metadata": {
    "scrolled": true
   },
   "outputs": [],
   "source": [
    "times = []\n",
    "count = 0\n",
    "for i, data in enumerate(valDataloader):\n",
    "    if count < 50:\n",
    "        count += 1\n",
    "        x = data['input'].cuda()\n",
    "        \n",
    "        start_time = time.time()\n",
    "        output = model(x)\n",
    "        end_time = time.time()\n",
    "        temp = end_time-start_time\n",
    "    else:\n",
    "        break\n",
    "    times.append(temp)"
   ]
  },
  {
   "cell_type": "code",
   "execution_count": 70,
   "id": "41bb8b2b",
   "metadata": {},
   "outputs": [
    {
     "data": {
      "text/plain": [
       "0.06403481960296631"
      ]
     },
     "execution_count": 70,
     "metadata": {},
     "output_type": "execute_result"
    }
   ],
   "source": [
    "from statistics import mean\n",
    "mean(times[0:])"
   ]
  },
  {
   "cell_type": "code",
   "execution_count": 71,
   "id": "1ad2d2ab",
   "metadata": {
    "scrolled": true
   },
   "outputs": [
    {
     "data": {
      "text/plain": [
       "[0.09326720237731934,\n",
       " 0.07489919662475586,\n",
       " 0.0750741958618164,\n",
       " 0.06736922264099121,\n",
       " 0.06133151054382324,\n",
       " 0.06647610664367676,\n",
       " 0.06582045555114746,\n",
       " 0.06191563606262207,\n",
       " 0.05357003211975098,\n",
       " 0.05968213081359863,\n",
       " 0.060109615325927734,\n",
       " 0.06007719039916992,\n",
       " 0.08457493782043457,\n",
       " 0.07651734352111816,\n",
       " 0.06776213645935059,\n",
       " 0.07460236549377441,\n",
       " 0.06839561462402344,\n",
       " 0.07155728340148926,\n",
       " 0.07279086112976074,\n",
       " 0.06758785247802734,\n",
       " 0.06671619415283203,\n",
       " 0.08404994010925293,\n",
       " 0.05644869804382324,\n",
       " 0.06981825828552246,\n",
       " 0.06050586700439453,\n",
       " 0.053292274475097656,\n",
       " 0.06160688400268555,\n",
       " 0.05935359001159668,\n",
       " 0.05948328971862793,\n",
       " 0.053438425064086914,\n",
       " 0.053099632263183594,\n",
       " 0.055268049240112305,\n",
       " 0.05561637878417969,\n",
       " 0.059213876724243164,\n",
       " 0.05927014350891113,\n",
       " 0.059645891189575195,\n",
       " 0.053897857666015625,\n",
       " 0.05971193313598633,\n",
       " 0.060923099517822266,\n",
       " 0.053665876388549805,\n",
       " 0.05488109588623047,\n",
       " 0.08211565017700195,\n",
       " 0.05456733703613281,\n",
       " 0.056473493576049805,\n",
       " 0.06439757347106934,\n",
       " 0.05474686622619629,\n",
       " 0.07278299331665039,\n",
       " 0.06363081932067871,\n",
       " 0.057450056076049805,\n",
       " 0.06228804588317871]"
      ]
     },
     "execution_count": 71,
     "metadata": {},
     "output_type": "execute_result"
    }
   ],
   "source": [
    "times"
   ]
  },
  {
   "cell_type": "code",
   "execution_count": null,
   "id": "3fb7ac1e",
   "metadata": {},
   "outputs": [],
   "source": []
  }
 ],
 "metadata": {
  "kernelspec": {
   "display_name": "Python 3",
   "language": "python",
   "name": "python3"
  },
  "language_info": {
   "codemirror_mode": {
    "name": "ipython",
    "version": 3
   },
   "file_extension": ".py",
   "mimetype": "text/x-python",
   "name": "python",
   "nbconvert_exporter": "python",
   "pygments_lexer": "ipython3",
   "version": "3.6.12"
  }
 },
 "nbformat": 4,
 "nbformat_minor": 5
}
