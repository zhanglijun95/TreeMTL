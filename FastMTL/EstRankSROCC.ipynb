{
 "cells": [
  {
   "cell_type": "code",
   "execution_count": 1,
   "id": "abc579ac",
   "metadata": {},
   "outputs": [],
   "source": [
    "import warnings\n",
    "warnings.filterwarnings(\"ignore\")\n",
    "import numpy as np\n",
    "import os\n",
    "import itertools\n",
    "import sys\n",
    "sys.path.append('/home/lijunzhang/multibranch/')\n",
    "from pathlib import Path\n",
    "import random\n",
    "from scipy import stats\n",
    "from ptflops import get_model_complexity_info\n",
    "import matplotlib.pyplot as plt\n",
    "\n",
    "from main.algs_EstCon import *\n",
    "from main.layout import Layout\n",
    "from main.algorithms import enum_layout_wo_rdt, init_S, coarse_to_fined"
   ]
  },
  {
   "cell_type": "markdown",
   "id": "490e550b",
   "metadata": {},
   "source": [
    "# Est. Rank"
   ]
  },
  {
   "cell_type": "code",
   "execution_count": 2,
   "id": "86fef9af",
   "metadata": {},
   "outputs": [],
   "source": [
    "# hyper\n",
    "exp_dir = 'FastMTL_0508'\n",
    "\n",
    "load_weight = False\n",
    "short_iters = 200\n",
    "smooth_weight = 0.0\n",
    "\n",
    "data = 'NYUv2'\n",
    "backbone = 'mobilenet'\n",
    "\n",
    "folder = '_'.join([str(load_weight), str(short_iters), str(smooth_weight)])+'/'\n",
    "savepath = os.path.join('./ckpt/', exp_dir, folder)"
   ]
  },
  {
   "cell_type": "code",
   "execution_count": 3,
   "id": "627bddbe",
   "metadata": {},
   "outputs": [],
   "source": [
    "if os.path.exists(os.path.join(savepath, 'layout_est.pkl')):\n",
    "    layout_est = load_obj(savepath, 'layout_est')\n",
    "else:\n",
    "    layout_est = None\n",
    "    \n",
    "if data == 'NYUv2':\n",
    "    tasks = ['segment_semantic', 'normal', 'depth_zbuffer']\n",
    "elif args.data == 'Taskonomy':\n",
    "    tasks = ['segment_semantic','normal','depth_zbuffer','keypoints2d','edge_texture']\n",
    "T = len(tasks)\n",
    "\n",
    "if backbone == 'resnet34':\n",
    "    D = coarse_B = 5\n",
    "elif backbone == 'mobilenet':\n",
    "    D = coarse_B = 5"
   ]
  },
  {
   "cell_type": "code",
   "execution_count": 4,
   "id": "4ec65111",
   "metadata": {},
   "outputs": [],
   "source": [
    "def check_valid(result, tasks):\n",
    "    alpha_dict = result['alpha']\n",
    "    for task in tasks:\n",
    "        if len(alpha_dict[task]) == 0:\n",
    "            return False\n",
    "    return True\n",
    "\n",
    "def extract_result(layout_est, savepath, layout_idx):\n",
    "    valid = False\n",
    "    # extract from the overall results\n",
    "    if layout_est is not None:\n",
    "        result = layout_est[layout_idx]\n",
    "        if check_valid(result, tasks):\n",
    "            valid = True\n",
    "    # extract from the single result\n",
    "    if layout_est is None or not valid:\n",
    "        if os.path.exists(os.path.join(savepath, 'layout_'+str(layout_idx)+'.pkl')):\n",
    "            result = load_obj(savepath, 'layout_'+str(layout_idx))\n",
    "            if not check_valid(result, tasks):\n",
    "                return False\n",
    "        else: # single result not exists\n",
    "            return False\n",
    "    return result"
   ]
  },
  {
   "cell_type": "code",
   "execution_count": 5,
   "id": "d88eaf11",
   "metadata": {
    "scrolled": true
   },
   "outputs": [
    {
     "name": "stdout",
     "output_type": "stream",
     "text": [
      "Finish Layout Enumeration\n"
     ]
    }
   ],
   "source": [
    "# enum layout\n",
    "layout_list = [] \n",
    "S0 = init_S(T, coarse_B) # initial state\n",
    "L = Layout(T, coarse_B, S0) # initial layout\n",
    "layout_list.append(L)\n",
    "enum_layout_wo_rdt(L, layout_list)\n",
    "print('Finish Layout Enumeration', flush=True)\n",
    "\n",
    "layout_idx = -1\n",
    "rerun = []\n",
    "outlier = False\n",
    "# take down conv_iter and virtual_loss for each layout\n",
    "for L in layout_list:\n",
    "    layout_idx += 1\n",
    "    if layout_idx == 2:\n",
    "        continue\n",
    "    \n",
    "    result = extract_result(layout_est, savepath, layout_idx)\n",
    "    if not result:\n",
    "        print('Please Rerun Layout {}.'.format(layout_idx),flush=True)\n",
    "        rerun.append(layout_idx)\n",
    "        continue\n",
    "    \n",
    "    for key in result:\n",
    "        if key == 'alpha':\n",
    "            continue\n",
    "        content = result[key]\n",
    "        for task in tasks:\n",
    "            re_lst = content[task]\n",
    "            if outlier:\n",
    "                # IQR\n",
    "                Q1 = np.percentile(re_lst, 25, interpolation = 'midpoint')\n",
    "                Q3 = np.percentile(re_lst, 75, interpolation = 'midpoint')\n",
    "                IQR = Q3 - Q1\n",
    "                upper = Q3+1.5*IQR # Upper bound\n",
    "                lower = Q1-1.5*IQR # Lower bound\n",
    "                re_lst = [x for x in re_lst if lower<=x and x<=upper]\n",
    "            \n",
    "            if len(re_lst) > 0:\n",
    "                if key == 'est_iter':\n",
    "                    L.conv_iter.append((min(re_lst),max(re_lst)))\n",
    "                elif key == 'est_loss':\n",
    "                    L.virtual_loss.append(np.mean(re_lst))\n",
    "            else:\n",
    "                print('Please Rerun Layout {}.'.format(layout_idx),flush=True)\n",
    "                rerun.append(layout_idx)"
   ]
  },
  {
   "cell_type": "code",
   "execution_count": 6,
   "id": "24113745",
   "metadata": {
    "scrolled": true
   },
   "outputs": [
    {
     "name": "stdout",
     "output_type": "stream",
     "text": [
      "Layout Idx: 16\n",
      "Virtual Loss: -97.9358394626398\n",
      "--------------------------------------------------------------------------------\n",
      "Layout Idx: 10\n",
      "Virtual Loss: -93.48567664557919\n",
      "--------------------------------------------------------------------------------\n",
      "Layout Idx: 21\n",
      "Virtual Loss: -90.8198577669443\n",
      "--------------------------------------------------------------------------------\n",
      "Layout Idx: 22\n",
      "Virtual Loss: -90.00532094025623\n",
      "--------------------------------------------------------------------------------\n",
      "Layout Idx: 39\n",
      "Virtual Loss: -88.09674355893787\n",
      "--------------------------------------------------------------------------------\n",
      "Layout Idx: 28\n",
      "Virtual Loss: -87.41130304779801\n",
      "--------------------------------------------------------------------------------\n",
      "Layout Idx: 13\n",
      "Virtual Loss: -86.59257596343585\n",
      "--------------------------------------------------------------------------------\n",
      "Layout Idx: 41\n",
      "Virtual Loss: -86.11674411287493\n",
      "--------------------------------------------------------------------------------\n",
      "Layout Idx: 7\n",
      "Virtual Loss: -85.46394408189404\n",
      "--------------------------------------------------------------------------------\n",
      "Layout Idx: 29\n",
      "Virtual Loss: -85.03647899327909\n",
      "--------------------------------------------------------------------------------\n",
      "Layout Idx: 25\n",
      "Virtual Loss: -83.84447606948663\n",
      "--------------------------------------------------------------------------------\n",
      "Layout Idx: 34\n",
      "Virtual Loss: -81.62321972405721\n",
      "--------------------------------------------------------------------------------\n",
      "Layout Idx: 12\n",
      "Virtual Loss: -81.30168920465924\n",
      "--------------------------------------------------------------------------------\n",
      "Layout Idx: 11\n",
      "Virtual Loss: -81.18246177122518\n",
      "--------------------------------------------------------------------------------\n",
      "Layout Idx: 19\n",
      "Virtual Loss: -81.1727525276905\n",
      "--------------------------------------------------------------------------------\n",
      "Layout Idx: 23\n",
      "Virtual Loss: -80.83538979404429\n",
      "--------------------------------------------------------------------------------\n",
      "Layout Idx: 36\n",
      "Virtual Loss: -78.39700488539856\n",
      "--------------------------------------------------------------------------------\n",
      "Layout Idx: 18\n",
      "Virtual Loss: -77.67048123661054\n",
      "--------------------------------------------------------------------------------\n",
      "Layout Idx: 49\n",
      "Virtual Loss: -77.63462497777857\n",
      "--------------------------------------------------------------------------------\n",
      "Layout Idx: 17\n",
      "Virtual Loss: -75.5038724814514\n",
      "--------------------------------------------------------------------------------\n",
      "Layout Idx: 31\n",
      "Virtual Loss: -74.26979350013502\n",
      "--------------------------------------------------------------------------------\n",
      "Layout Idx: 5\n",
      "Virtual Loss: -73.7818199422116\n",
      "--------------------------------------------------------------------------------\n",
      "Layout Idx: 45\n",
      "Virtual Loss: -73.31061214000142\n",
      "--------------------------------------------------------------------------------\n",
      "Layout Idx: 14\n",
      "Virtual Loss: -68.62474306546581\n",
      "--------------------------------------------------------------------------------\n",
      "Layout Idx: 20\n",
      "Virtual Loss: -68.47602012460757\n",
      "--------------------------------------------------------------------------------\n",
      "Layout Idx: 6\n",
      "Virtual Loss: -67.592443189639\n",
      "--------------------------------------------------------------------------------\n",
      "Layout Idx: 8\n",
      "Virtual Loss: -66.9618792789766\n",
      "--------------------------------------------------------------------------------\n",
      "Layout Idx: 44\n",
      "Virtual Loss: -66.80261204711904\n",
      "--------------------------------------------------------------------------------\n",
      "Layout Idx: 35\n",
      "Virtual Loss: -65.60328081136207\n",
      "--------------------------------------------------------------------------------\n",
      "Layout Idx: 37\n",
      "Virtual Loss: -64.23351080301536\n",
      "--------------------------------------------------------------------------------\n",
      "Layout Idx: 26\n",
      "Virtual Loss: -63.64698240861979\n",
      "--------------------------------------------------------------------------------\n",
      "Layout Idx: 15\n",
      "Virtual Loss: -63.06797970160777\n",
      "--------------------------------------------------------------------------------\n",
      "Layout Idx: 43\n",
      "Virtual Loss: -62.63312091998935\n",
      "--------------------------------------------------------------------------------\n",
      "Layout Idx: 24\n",
      "Virtual Loss: -62.627512195776575\n",
      "--------------------------------------------------------------------------------\n",
      "Layout Idx: 3\n",
      "Virtual Loss: -62.402617108335164\n",
      "--------------------------------------------------------------------------------\n",
      "Layout Idx: 47\n",
      "Virtual Loss: -60.59319177138977\n",
      "--------------------------------------------------------------------------------\n",
      "Layout Idx: 0\n",
      "Virtual Loss: -59.94626836869547\n",
      "--------------------------------------------------------------------------------\n",
      "Layout Idx: 33\n",
      "Virtual Loss: -59.888654744788454\n",
      "--------------------------------------------------------------------------------\n",
      "Layout Idx: 38\n",
      "Virtual Loss: -59.079649292629455\n",
      "--------------------------------------------------------------------------------\n",
      "Layout Idx: 42\n",
      "Virtual Loss: -57.79143705256848\n",
      "--------------------------------------------------------------------------------\n",
      "Layout Idx: 48\n",
      "Virtual Loss: -57.15078750650211\n",
      "--------------------------------------------------------------------------------\n",
      "Layout Idx: 32\n",
      "Virtual Loss: -51.42430553310328\n",
      "--------------------------------------------------------------------------------\n",
      "Layout Idx: 1\n",
      "Virtual Loss: -51.06122609255859\n",
      "--------------------------------------------------------------------------------\n",
      "Layout Idx: 4\n",
      "Virtual Loss: -31.91918800650283\n",
      "--------------------------------------------------------------------------------\n",
      "Layout Idx: 27\n",
      "Virtual Loss: -28.490018912803187\n",
      "--------------------------------------------------------------------------------\n",
      "Layout Idx: 50\n",
      "Virtual Loss: -27.71361737667245\n",
      "--------------------------------------------------------------------------------\n",
      "Layout Idx: 9\n",
      "Virtual Loss: -27.684481263834567\n",
      "--------------------------------------------------------------------------------\n",
      "Layout Idx: 46\n",
      "Virtual Loss: -26.962763174086064\n",
      "--------------------------------------------------------------------------------\n",
      "Layout Idx: 30\n",
      "Virtual Loss: -26.70077890120494\n",
      "--------------------------------------------------------------------------------\n",
      "Layout Idx: 40\n",
      "Virtual Loss: -26.37279687193371\n",
      "--------------------------------------------------------------------------------\n",
      "Layout Idx: 2\n",
      "Virtual Loss: 0\n",
      "--------------------------------------------------------------------------------\n"
     ]
    }
   ],
   "source": [
    "final_loss_flag = True # true: rank by final loss; false: rank by conv iter\n",
    "\n",
    "if final_loss_flag:\n",
    "    # sort by final loss\n",
    "    layout_order = sorted(range(len(layout_list)), key=lambda k: np.sum(layout_list[k].virtual_loss),reverse=False)\n",
    "    for idx in layout_order:\n",
    "        print('Layout Idx: {}'.format(idx))\n",
    "        print('Virtual Loss: {}'.format(sum(layout_list[idx].virtual_loss)))\n",
    "        print('-'*80)\n",
    "else:\n",
    "    # sort by conv iter\n",
    "    layout_order = sorted(range(30), key=lambda k: int(np.max(np.mean(layout_list[k].conv_iter, axis=1))),reverse=False)\n",
    "    for idx in layout_order:\n",
    "        print('Layout Idx: {}'.format(idx))\n",
    "        print('Conv Iter: {}'.format(int(np.max(np.mean(layout_list[idx].conv_iter, axis=1)))))\n",
    "        print('Confidence: {}'.format(200*1/np.mean([layout_list[idx].conv_iter[i][1]-layout_list[idx].conv_iter[i][0] for i in range(T)])))\n",
    "        print('-'*80)"
   ]
  },
  {
   "cell_type": "markdown",
   "id": "d6b1210f",
   "metadata": {},
   "source": [
    "# SROCC"
   ]
  },
  {
   "cell_type": "code",
   "execution_count": 7,
   "id": "d2b1307e",
   "metadata": {},
   "outputs": [],
   "source": [
    "real_loss_conv_iter = load_obj('./exp/', 'real_loss_conv_iter_'+data+'_'+backbone)\n",
    "real_early_iter_rel_pref = load_obj('./exp/', 'real_early_iter_rel_pref_'+data+'_'+backbone)\n",
    "\n",
    "idx = real_loss_conv_iter['layout']\n",
    "est_final_loss = [sum(layout_list[i].virtual_loss) for i in idx]\n",
    "est_conv_iter = [int(np.max(np.mean(layout_list[i].conv_iter, axis=1))) for i in idx]"
   ]
  },
  {
   "cell_type": "code",
   "execution_count": 11,
   "id": "c01e2198",
   "metadata": {},
   "outputs": [],
   "source": [
    "real_final_loss = real_loss_conv_iter['final_loss']\n",
    "real_conv_iter = real_loss_conv_iter['conv_iter']\n",
    "\n",
    "real_early_iter = real_early_iter_rel_pref['early_iter']\n",
    "real_rel_pref = real_early_iter_rel_pref['final_rel_perf']"
   ]
  },
  {
   "cell_type": "code",
   "execution_count": 12,
   "id": "a70eb83b",
   "metadata": {},
   "outputs": [
    {
     "data": {
      "text/plain": [
       "SpearmanrResult(correlation=0.312781954887218, pvalue=0.17936353052759138)"
      ]
     },
     "execution_count": 12,
     "metadata": {},
     "output_type": "execute_result"
    }
   ],
   "source": [
    "stats.spearmanr(real_final_loss,est_final_loss)"
   ]
  },
  {
   "cell_type": "code",
   "execution_count": 13,
   "id": "e8f06db3",
   "metadata": {},
   "outputs": [
    {
     "data": {
      "text/plain": [
       "SpearmanrResult(correlation=0.15851832887861342, pvalue=0.5044468512716638)"
      ]
     },
     "execution_count": 13,
     "metadata": {},
     "output_type": "execute_result"
    }
   ],
   "source": [
    "stats.spearmanr(real_conv_iter,est_conv_iter)"
   ]
  },
  {
   "cell_type": "code",
   "execution_count": 14,
   "id": "10cfb1db",
   "metadata": {},
   "outputs": [
    {
     "data": {
      "text/plain": [
       "SpearmanrResult(correlation=-0.17744360902255638, pvalue=0.4542034838793192)"
      ]
     },
     "execution_count": 14,
     "metadata": {},
     "output_type": "execute_result"
    }
   ],
   "source": [
    "stats.spearmanr(real_rel_pref,est_final_loss)"
   ]
  },
  {
   "cell_type": "code",
   "execution_count": 15,
   "id": "b2e80eac",
   "metadata": {},
   "outputs": [
    {
     "data": {
      "text/plain": [
       "SpearmanrResult(correlation=0.07214103567702387, pvalue=0.7624654621399827)"
      ]
     },
     "execution_count": 15,
     "metadata": {},
     "output_type": "execute_result"
    }
   ],
   "source": [
    "stats.spearmanr(real_early_iter,est_conv_iter)"
   ]
  },
  {
   "cell_type": "code",
   "execution_count": 16,
   "id": "d331cb99",
   "metadata": {},
   "outputs": [
    {
     "data": {
      "text/plain": [
       "SpearmanrResult(correlation=-0.7278195488721804, pvalue=0.00027529626409060167)"
      ]
     },
     "execution_count": 16,
     "metadata": {},
     "output_type": "execute_result"
    }
   ],
   "source": [
    "stats.spearmanr(real_final_loss,real_rel_pref) #????"
   ]
  },
  {
   "cell_type": "code",
   "execution_count": 17,
   "id": "e1769365",
   "metadata": {},
   "outputs": [
    {
     "data": {
      "text/plain": [
       "SpearmanrResult(correlation=0.3025415688536524, pvalue=0.19479436311346848)"
      ]
     },
     "execution_count": 17,
     "metadata": {},
     "output_type": "execute_result"
    }
   ],
   "source": [
    "stats.spearmanr(real_conv_iter,real_early_iter)"
   ]
  },
  {
   "cell_type": "code",
   "execution_count": null,
   "id": "adabf8a5",
   "metadata": {},
   "outputs": [],
   "source": []
  }
 ],
 "metadata": {
  "kernelspec": {
   "display_name": "Python 3",
   "language": "python",
   "name": "python3"
  },
  "language_info": {
   "codemirror_mode": {
    "name": "ipython",
    "version": 3
   },
   "file_extension": ".py",
   "mimetype": "text/x-python",
   "name": "python",
   "nbconvert_exporter": "python",
   "pygments_lexer": "ipython3",
   "version": "3.6.12"
  }
 },
 "nbformat": 4,
 "nbformat_minor": 5
}
